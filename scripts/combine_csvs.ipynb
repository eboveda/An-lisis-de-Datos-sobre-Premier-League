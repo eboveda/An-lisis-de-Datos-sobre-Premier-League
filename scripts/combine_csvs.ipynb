{
 "cells": [
  {
   "cell_type": "code",
   "execution_count": 1,
   "id": "60d761ae-2dd0-4c22-99d5-93c52728fe0f",
   "metadata": {},
   "outputs": [
    {
     "name": "stdout",
     "output_type": "stream",
     "text": [
      "Archivos combinados y guardados en: ../processed_data/temporadas_combinadas.csv\n"
     ]
    }
   ],
   "source": [
    "import pandas as pd\n",
    "import os\n",
    "\n",
    "def combine_csv_files(input_folder, output_file):\n",
    "\n",
    "    dataframes = []\n",
    "\n",
    "    # Leer todos los archivos CSV de la carpeta\n",
    "    for archivo in os.listdir(input_folder):\n",
    "        if archivo.endswith(\".csv\"):  # Verifica que sea un archivo CSV\n",
    "            ruta_archivo = os.path.join(input_folder, archivo)\n",
    "            df = pd.read_csv(ruta_archivo)  # Leer el archivo CSV\n",
    "            dataframes.append(df)  # Agregar al listado\n",
    "\n",
    "    # Combinar todos los DataFrames en uno solo\n",
    "    df_combinado = pd.concat(dataframes, ignore_index=True)\n",
    "\n",
    "    # Guardar el DataFrame combinado en un archivo CSV\n",
    "    df_combinado.to_csv(output_file, index=False)\n",
    "    print(f\"Archivos combinados y guardados en: {output_file}\")\n",
    "\n",
    "# Parámetros\n",
    "input_folder = \"../data/\"  # Ruta a los CSV\n",
    "output_file = \"../processed_data/temporadas_combinadas.csv\"  # Archivo de salida\n",
    "\n",
    "# Llamada a la función\n",
    "if __name__ == \"__main__\":\n",
    "    combine_csv_files(input_folder, output_file)"
   ]
  }
 ],
 "metadata": {
  "kernelspec": {
   "display_name": "Python 3 (ipykernel)",
   "language": "python",
   "name": "python3"
  },
  "language_info": {
   "codemirror_mode": {
    "name": "ipython",
    "version": 3
   },
   "file_extension": ".py",
   "mimetype": "text/x-python",
   "name": "python",
   "nbconvert_exporter": "python",
   "pygments_lexer": "ipython3",
   "version": "3.12.4"
  }
 },
 "nbformat": 4,
 "nbformat_minor": 5
}
