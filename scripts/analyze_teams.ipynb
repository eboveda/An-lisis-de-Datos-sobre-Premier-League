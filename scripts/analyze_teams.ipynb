{
 "cells": [
  {
   "cell_type": "code",
   "execution_count": 3,
   "id": "e91689d9-7c3e-4bda-b152-eaabdc88a484",
   "metadata": {},
   "outputs": [
    {
     "name": "stdout",
     "output_type": "stream",
     "text": [
      "Archivo analyze_teams.ipynb listo para usar funciones en otros notebooks.\n"
     ]
    }
   ],
   "source": [
    "import pandas as pd\n",
    "\n",
    "def equipos_en_todas_las_temporadas(df, temporadas_requeridas=10):\n",
    "    \n",
    "    # Crear columna de temporada como rango de años\n",
    "    df['Año_inicio'] = df['Fecha'].dt.year.where(df['Fecha'].dt.month < 7, df['Fecha'].dt.year + 1)\n",
    "    df['Temporada'] = (df['Año_inicio'] - 1).astype(str) + \"/\" + df['Año_inicio'].astype(str)\n",
    "\n",
    "    # Verificar partidos jugados por cada equipo en cada temporada\n",
    "    locales_por_temporada = df.groupby([\"Equipo_Local\", \"Temporada\"]).size()\n",
    "    visitantes_por_temporada = df.groupby([\"Equipo_Visitante\", \"Temporada\"]).size()\n",
    "\n",
    "    # Equipos con 19 partidos como local y visitante por temporada\n",
    "    equipos_locales_completos = locales_por_temporada[locales_por_temporada == 19].index.get_level_values(0)\n",
    "    equipos_visitantes_completos = visitantes_por_temporada[visitantes_por_temporada == 19].index.get_level_values(0)\n",
    "    equipos_completos = set(equipos_locales_completos).intersection(equipos_visitantes_completos)\n",
    "\n",
    "    # Equipos presentes en TODAS las temporadas requeridas\n",
    "    temporadas_por_equipo = df[df[\"Equipo_Local\"].isin(equipos_completos) | df[\"Equipo_Visitante\"].isin(equipos_completos)]\n",
    "    equipos_todas_temporadas = temporadas_por_equipo.groupby(\"Equipo_Local\")[\"Temporada\"].nunique()\n",
    "    return equipos_todas_temporadas[equipos_todas_temporadas == temporadas_requeridas].index.tolist()\n",
    "\n",
    "if __name__ == \"__main__\":\n",
    "    print(\"Archivo analyze_teams.ipynb listo para usar funciones en otros notebooks.\")\n"
   ]
  }
 ],
 "metadata": {
  "kernelspec": {
   "display_name": "Python 3 (ipykernel)",
   "language": "python",
   "name": "python3"
  },
  "language_info": {
   "codemirror_mode": {
    "name": "ipython",
    "version": 3
   },
   "file_extension": ".py",
   "mimetype": "text/x-python",
   "name": "python",
   "nbconvert_exporter": "python",
   "pygments_lexer": "ipython3",
   "version": "3.12.4"
  }
 },
 "nbformat": 4,
 "nbformat_minor": 5
}
